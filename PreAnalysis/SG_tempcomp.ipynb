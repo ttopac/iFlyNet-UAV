{
 "cells": [
  {
   "cell_type": "code",
   "execution_count": 1,
   "metadata": {},
   "outputs": [],
   "source": [
    "from datetime import datetime\n",
    "import pathlib\n",
    "import pickle\n",
    "import os\n",
    "import pandas as pd\n",
    "import numpy as np\n",
    "import matplotlib.pyplot as plt\n",
    "from helpers.tempcomp_helper import get_comp_factors\n",
    "from helpers.tempcomp_helper import get_comp_factors_nonzero\n",
    "from helpers.tempcomp_helper import add_compensated_data_to_df\n",
    "from helpers.tempcomp_helper import add_compensated_data_to_df_infrequent\n",
    "\n",
    "cur_dir = os.getcwd()\n",
    "par_dir = os.path.abspath(os.path.join(cur_dir, os.pardir))\n",
    "up_dir = os.path.dirname(par_dir)\n",
    "compfactor_dir = os.path.join(up_dir, \"08_01_2022_Tests\", \"testdata\", \"preliminary\")"
   ]
  },
  {
   "attachments": {},
   "cell_type": "markdown",
   "metadata": {},
   "source": [
    "# 1a) Get Comp Factors for Heating"
   ]
  },
  {
   "attachments": {},
   "cell_type": "markdown",
   "metadata": {},
   "source": [
    "The block below computes the compensation factors and exports them in .pickle format"
   ]
  },
  {
   "cell_type": "code",
   "execution_count": 2,
   "metadata": {},
   "outputs": [],
   "source": [
    "test_date = \"08_01_2022\"\n",
    "test_folder = \"preliminary\"\n",
    "test_name = \"normalized_heating_pretest_rtd-str_Jan2023\"\n",
    "\n",
    "data_dir = os.path.join(up_dir, test_date+\"_Tests\", \"testdata\", test_folder)\n",
    "test_csv = os.path.join(data_dir, test_name+\".csv\")\n",
    "\n",
    "if \"normalized\" not in test_csv:\n",
    "  _ = input(\"The .csv file is not normalized. Are you sure you'd like to continue?\")\n",
    "\n",
    "test_df = pd.read_csv(test_csv, header=1) #header=1 for normalized SGs/RTDs. header=0 for non-normalized"
   ]
  },
  {
   "cell_type": "code",
   "execution_count": 3,
   "metadata": {},
   "outputs": [
    {
     "name": "stdout",
     "output_type": "stream",
     "text": [
      "   direc: array([[ 6.56972219e-03, -1.23633490e+00],\n",
      "       [ 2.49579616e-07, -9.99438217e-04]])\n",
      "     fun: 0.1561281612196378\n",
      " message: 'Optimization terminated successfully.'\n",
      "    nfev: 196\n",
      "     nit: 5\n",
      "  status: 0\n",
      " success: True\n",
      "       x: array([-1.98066434e-06,  9.13863216e-02])\n",
      "   direc: array([[ 3.84435283e-03, -1.74616209e+00],\n",
      "       [ 2.01652980e-06, -5.55024551e-03]])\n",
      "     fun: 0.20540286578168032\n",
      " message: 'Optimization terminated successfully.'\n",
      "    nfev: 247\n",
      "     nit: 6\n",
      "  status: 0\n",
      " success: True\n",
      "       x: array([7.18138156e-06, 2.86275133e-01])\n",
      "   direc: array([[ 5.18047029e-03, -1.56330563e+00],\n",
      "       [-9.13987908e-10,  3.29317593e-06]])\n",
      "     fun: 0.1548794019219317\n",
      " message: 'Optimization terminated successfully.'\n",
      "    nfev: 194\n",
      "     nit: 5\n",
      "  status: 0\n",
      " success: True\n",
      "       x: array([3.74740585e-06, 2.15316794e-01])\n",
      "   direc: array([[ 4.69205279e-03, -1.72202259e+00],\n",
      "       [ 7.47560409e-08,  7.95805564e-04]])\n",
      "     fun: 0.13594287899483523\n",
      " message: 'Optimization terminated successfully.'\n",
      "    nfev: 197\n",
      "     nit: 5\n",
      "  status: 0\n",
      " success: True\n",
      "       x: array([2.44144873e-06, 2.37119134e-01])\n",
      "Uniform filter applied to RTD 6.\n",
      "   direc: array([[ 4.85132578e-05, -3.16280352e-03],\n",
      "       [ 1.87330147e-06, -5.21512205e-04]])\n",
      "     fun: 0.36067757679759355\n",
      " message: 'Optimization terminated successfully.'\n",
      "    nfev: 163\n",
      "     nit: 5\n",
      "  status: 0\n",
      " success: True\n",
      "       x: array([-3.41052802e-06,  7.79877594e-02])\n"
     ]
    }
   ],
   "source": [
    "if \"heating_pretest\" not in test_name:\n",
    "  _ = input(\"\"\"You're trying to set compensation factors from a \n",
    "            different test than the controlled pre-heating test. \n",
    "            This is very likely not what you should do! Are you sure?\"\"\")\n",
    "\n",
    "sensor_id_list = [1, 2, 4, 5, 6]\n",
    "unique_rtds = True #Set whether we'd like to find compensation factors using unique RTDs or shared RTDs\n",
    "comp_factors = get_comp_factors(test_df, sensor_id_list, unique_rtds)"
   ]
  },
  {
   "attachments": {},
   "cell_type": "markdown",
   "metadata": {},
   "source": [
    "### Save the compensation factors for heating."
   ]
  },
  {
   "cell_type": "code",
   "execution_count": 4,
   "metadata": {},
   "outputs": [],
   "source": [
    "data_name = \"compfactors_Jan2023_heating.pickle\"\n",
    "\n",
    "with open(os.path.join(compfactor_dir, data_name), 'wb') as f:\n",
    "  pickle.dump(comp_factors, f)"
   ]
  },
  {
   "attachments": {},
   "cell_type": "markdown",
   "metadata": {},
   "source": [
    "# 1b) Get Comp Factors for Cooling"
   ]
  },
  {
   "cell_type": "code",
   "execution_count": 4,
   "metadata": {},
   "outputs": [
    {
     "name": "stderr",
     "output_type": "stream",
     "text": [
      "/Users/tanay/miniconda3/envs/python310_tf/lib/python3.10/site-packages/numpy/core/fromnumeric.py:3472: FutureWarning: In a future version, DataFrame.mean(axis=None) will return a scalar mean over the entire DataFrame. To retain the old behavior, use 'frame.mean(axis=0)' or just 'frame.mean()'\n",
      "  return mean(axis=axis, dtype=dtype, out=out, **kwargs)\n"
     ]
    }
   ],
   "source": [
    "# Get the average strain and lift from the test that gave sensible readings\n",
    "# (Day2Training1)\n",
    "\n",
    "time_range = (datetime(2022,8,2,12,42,00), datetime(2022,8,2,12,56,00))\n",
    "SG_cols_comp = [\"SG 1 (V) (normalized) (compensated)\",\n",
    "                \"SG 2 (V) (normalized) (compensated)\", \n",
    "                \"SG 4 (V) (normalized) (compensated)\", \n",
    "                \"SG 5 (V) (normalized) (compensated)\", \n",
    "                \"SG 6 (V) (normalized) (compensated)\"]\n",
    "\n",
    "# strain from heating test\n",
    "test_date = \"08_02_2022\"\n",
    "test_folder = \"Day2_Training1\"\n",
    "test_name = \"compensated_normalized_WTRUN2_day2_training1_2022-08-02_12-38-30-01_rtd-str_Jan2023\"\n",
    "data_dir = os.path.join(up_dir, test_date+\"_Tests\", \"testdata\", test_folder)\n",
    "sg_csv = os.path.join(data_dir, test_name+\".csv\")\n",
    "sg_df = pd.read_csv(sg_csv, header=0)\n",
    "sg_df.insert(1, \"Date/Time (formatted)\", sg_df[\"Date/Time\"])\n",
    "sg_df[\"Date/Time (formatted)\"] = sg_df[\"Date/Time (formatted)\"].apply(lambda x: datetime.strptime(x, \"%Y-%m-%d_%H-%M-%S-%f\"))\n",
    "sg_df_filtered = sg_df[(sg_df[\"Date/Time (formatted)\"] > time_range[0]) & (sg_df[\"Date/Time (formatted)\"] < time_range[1])]\n",
    "ave_strain_sensible = np.mean(sg_df_filtered[SG_cols_comp])\n",
    "\n",
    "# lift\n",
    "test_name = \"DateTimed_WTRUN2_day2_training1_EDS\"\n",
    "eds_csv = os.path.join(data_dir, test_name+\".csv\")\n",
    "eds_df = pd.read_csv(eds_csv, header=0, index_col=False)\n",
    "eds_df.insert(1, \"Date/Time (formatted)\", eds_df[\"DateTime Str\"])\n",
    "eds_df[\"Date/Time (formatted)\"] = eds_df[\"Date/Time (formatted)\"].apply(lambda x: datetime.strptime(x, \"%Y-%m-%d %H:%M:%S.%f\"))\n",
    "eds_df_filtered = eds_df[(eds_df[\"Date/Time (formatted)\"] > time_range[0]) & (eds_df[\"Date/Time (formatted)\"] < time_range[1])]\n",
    "ave_lift_sensible = np.mean(eds_df_filtered[\"Lift (lbf)\"])\n",
    "\n",
    "lift_to_str_ratios = ave_lift_sensible / ave_strain_sensible\n",
    "lift_to_str_ratios = lift_to_str_ratios.rename(index=lambda x: x[0:4])"
   ]
  },
  {
   "cell_type": "code",
   "execution_count": 20,
   "metadata": {},
   "outputs": [],
   "source": [
    "# Get the average lift from the test that didn't give sensible readings (either Day2Dynamic1 or Day1Training1)\n",
    "# Then calculate the expected average strain based on the lift_to_str_ratios found above\n",
    "# (Day2Dynamic1)\n",
    "\n",
    "time_range_0 = (datetime(2022,8,2,14,33,00), datetime(2022,8,2,14,34,20))\n",
    "time_range_1 = (datetime(2022,8,2,14,34,50), datetime(2022,8,2,14,49,40))\n",
    "time_range_2 = (datetime(2022,8,2,14,50,10), datetime(2022,8,2,14,51,50))\n",
    "time_range_3 = (datetime(2022,8,2,16,22,00), datetime(2022,8,2,16,30,00))\n",
    "\n",
    "# lift\n",
    "test_date = \"08_02_2022\"\n",
    "test_folder = \"Day2_Dynamic1\"\n",
    "test_name = \"DateTimed_WTRUN2_day2_dynamic1_EDS\"\n",
    "data_dir = os.path.join(up_dir, test_date+\"_Tests\", \"testdata\", test_folder)\n",
    "eds_csv = os.path.join(data_dir, test_name+\".csv\")\n",
    "eds_df = pd.read_csv(eds_csv, header=0, index_col=False)\n",
    "eds_df.insert(1, \"Date/Time (formatted)\", eds_df[\"DateTime Str\"])\n",
    "eds_df[\"Date/Time (formatted)\"] = eds_df[\"Date/Time (formatted)\"].apply(lambda x: datetime.strptime(x, \"%Y-%m-%d %H:%M:%S.%f\"))\n",
    "eds_df_filtered = eds_df[eds_df[\"Date/Time (formatted)\"] < time_range_2[1]]\n",
    "\n",
    "ave_lift_nonsensible_0 = 0\n",
    "ave_lift_nonsensible_1 = eds_df_filtered[(eds_df_filtered[\"Date/Time (formatted)\"] > time_range_1[0]) & (eds_df_filtered[\"Date/Time (formatted)\"] < time_range_1[1])]\n",
    "ave_lift_nonsensible_1 = np.mean(ave_lift_nonsensible_1[\"Lift (lbf)\"])\n",
    "ave_lift_nonsensible_2 = 0\n",
    "\n",
    "# expected strain\n",
    "exp_str_1 = ave_lift_nonsensible_1/lift_to_str_ratios"
   ]
  },
  {
   "cell_type": "code",
   "execution_count": 21,
   "metadata": {},
   "outputs": [
    {
     "name": "stdout",
     "output_type": "stream",
     "text": [
      "   direc: array([[-3.31995187e-04, -6.58972793e-02],\n",
      "       [ 2.08711587e-07,  2.22199311e-05]])\n",
      "     fun: 1.8584484853026482\n",
      " message: 'Optimization terminated successfully.'\n",
      "    nfev: 290\n",
      "     nit: 9\n",
      "  status: 0\n",
      " success: True\n",
      "       x: array([-3.94669227e-06,  7.59245285e-02])\n",
      "   direc: array([[1.01090404e-03, 3.92650101e-01],\n",
      "       [1.14608790e-04, 6.05910846e-02]])\n",
      "     fun: 4.070494164638293\n",
      " message: 'Optimization terminated successfully.'\n",
      "    nfev: 191\n",
      "     nit: 6\n",
      "  status: 0\n",
      " success: True\n",
      "       x: array([-2.48237109e-05,  2.78284652e-01])\n",
      "   direc: array([[2.15173792e-04, 1.18957653e-01],\n",
      "       [5.67828053e-08, 1.47983019e-05]])\n",
      "     fun: 1.8656556421103012\n",
      " message: 'Optimization terminated successfully.'\n",
      "    nfev: 235\n",
      "     nit: 7\n",
      "  status: 0\n",
      " success: True\n",
      "       x: array([-5.56149915e-06,  2.09638632e-01])\n",
      "   direc: array([[ 1.57658684e-03,  7.58749287e-01],\n",
      "       [-4.25291390e-07, -6.88322105e-04]])\n",
      "     fun: 1.558464004202187\n",
      " message: 'Optimization terminated successfully.'\n",
      "    nfev: 192\n",
      "     nit: 5\n",
      "  status: 0\n",
      " success: True\n",
      "       x: array([-8.47259338e-07,  2.35108556e-01])\n",
      "Uniform filter applied to RTD 6.\n",
      "   direc: array([[-2.27996514e-03, -3.21335186e-01],\n",
      "       [-2.12101710e-05, -6.28906594e-03]])\n",
      "     fun: 4.818689106120343\n",
      " message: 'Optimization terminated successfully.'\n",
      "    nfev: 311\n",
      "     nit: 10\n",
      "  status: 0\n",
      " success: True\n",
      "       x: array([-1.18996631e-05,  7.48595791e-02])\n"
     ]
    }
   ],
   "source": [
    "# Finally, compute the compensation factors that'll pull the strain values around the expected average strain found above\n",
    "# (similar to the earlier compensation, but this time we're minimizing around the non-zero values found above)\n",
    "sensor_id_list = [1,2,4,5,6]\n",
    "col_names = [\"SG 1 Expected\",\n",
    "            \"SG 2 Expected\",\n",
    "            \"SG 4 Expected\",\n",
    "            \"SG 5 Expected\",\n",
    "            \"SG 6 Expected\"]\n",
    "\n",
    "# observed strain\n",
    "test_date = \"08_02_2022\"\n",
    "test_folder = \"Day2_Dynamic1\"\n",
    "test_name = \"normalized_WTRUN2_day2_dynamic1_2022-08-02_14-32-54-11_rtd-str_Jan2023\"\n",
    "data_dir = os.path.join(up_dir, test_date+\"_Tests\", \"testdata\", test_folder)\n",
    "sg_csv = os.path.join(data_dir, test_name+\".csv\")\n",
    "sg_df = pd.read_csv(sg_csv, header=1)\n",
    "sg_df.insert(1, \"Date/Time (formatted)\", sg_df[\"Date/Time\"])\n",
    "sg_df[\"Date/Time (formatted)\"] = sg_df[\"Date/Time (formatted)\"].apply(lambda x: datetime.strptime(x, \"%Y-%m-%d_%H-%M-%S-%f\"))\n",
    "\n",
    "sg_df_filtered = sg_df[(sg_df[\"Date/Time (formatted)\"] > time_range_0[0]) & (sg_df[\"Date/Time (formatted)\"] < time_range_0[1])]\n",
    "sg_df_filtered = pd.concat((sg_df_filtered, sg_df[(sg_df[\"Date/Time (formatted)\"] > time_range_1[0]) & (sg_df[\"Date/Time (formatted)\"] < time_range_1[1])]), ignore_index=True)\n",
    "sg_df_filtered = pd.concat((sg_df_filtered, sg_df[(sg_df[\"Date/Time (formatted)\"] > time_range_2[0]) & (sg_df[\"Date/Time (formatted)\"] < time_range_2[1])]), ignore_index=True)\n",
    "sg_df_filtered = pd.concat((sg_df_filtered, sg_df[(sg_df[\"Date/Time (formatted)\"] > time_range_3[0]) & (sg_df[\"Date/Time (formatted)\"] < time_range_3[1])]), ignore_index=True)\n",
    "\n",
    "for sensor_id in sensor_id_list:\n",
    "  sg_df_filtered.insert(1,f\"SG {sensor_id} Expected\", 0)\n",
    "  sg_df_filtered.loc[(sg_df_filtered[\"Date/Time (formatted)\"] > time_range_1[0]) & (sg_df_filtered[\"Date/Time (formatted)\"] < time_range_1[1]), f\"SG {sensor_id} Expected\"] = exp_str_1[f'SG {sensor_id}']\n",
    "\n",
    "exp_str = sg_df_filtered[col_names] \n",
    "comp_factors = get_comp_factors_nonzero (sg_df_filtered, sensor_id_list, exp_str)\n"
   ]
  },
  {
   "cell_type": "code",
   "execution_count": 22,
   "metadata": {},
   "outputs": [
    {
     "name": "stdout",
     "output_type": "stream",
     "text": [
      "Uniform filter applied to RTD 6.\n"
     ]
    },
    {
     "data": {
      "text/plain": [
       "[<matplotlib.lines.Line2D at 0x2bbd68bb0>]"
      ]
     },
     "execution_count": 22,
     "metadata": {},
     "output_type": "execute_result"
    },
    {
     "data": {
      "image/png": "[encoded data removed]",
      "text/plain": [
       "<Figure size 640x480 with 1 Axes>"
      ]
     },
     "metadata": {},
     "output_type": "display_data"
    }
   ],
   "source": [
    "# Validation 1: check the accuracy of these factors in the non-sensible test\n",
    "# (Day2Dynamic1)\n",
    "# observed strain\n",
    "test_date = \"08_02_2022\"\n",
    "test_folder = \"Day2_Dynamic1\"\n",
    "test_name = \"normalized_WTRUN2_day2_dynamic1_2022-08-02_14-32-54-11_rtd-str_Jan2023\"\n",
    "data_dir = os.path.join(up_dir, test_date+\"_Tests\", \"testdata\", test_folder)\n",
    "sg_csv = os.path.join(data_dir, test_name+\".csv\")\n",
    "sg_df = pd.read_csv(sg_csv, header=1)\n",
    "\n",
    "sg_df_comp = add_compensated_data_to_df (sg_df, comp_factors, True)\n",
    "plt.plot(sg_df_comp[\"SG 1 (V) (normalized) (compensated)\"])\n"
   ]
  },
  {
   "cell_type": "code",
   "execution_count": 11,
   "metadata": {},
   "outputs": [],
   "source": [
    "# Validation 2: Check the accuracy of these factors in the other non-sensible test\n",
    "# (Day1Training1)\n",
    "time_range = (datetime(2022,8,1,17,27,00), datetime(2022,8,1,17,42,50))\n",
    "test_date = \"08_01_2022\"\n",
    "test_folder = \"Day1_Training1\"\n",
    "\n",
    "# lift\n",
    "test_name = \"flagged_DateTimed_WTRUN2_day1_training1_EDS\"\n",
    "data_dir = os.path.join(up_dir, test_date+\"_Tests\", \"testdata\", test_folder)\n",
    "eds_csv = os.path.join(data_dir, test_name+\".csv\")\n",
    "eds_df = pd.read_csv(eds_csv, header=0, index_col=False)\n",
    "eds_df.insert(1, \"Date/Time (formatted)\", eds_df[\"DateTime Str\"])\n",
    "eds_df[\"Date/Time (formatted)\"] = eds_df[\"Date/Time (formatted)\"].apply(lambda x: datetime.strptime(x, \"%Y-%m-%d %H:%M:%S.%f\"))\n",
    "eds_df_filtered = eds_df[(eds_df[\"Date/Time (formatted)\"] > time_range[0]) & (eds_df[\"Date/Time (formatted)\"] < time_range[1])]\n",
    "\n",
    "ave_lift_nonsensible = np.mean(eds_df_filtered[\"Lift (lbf)\"])\n",
    "exp_str = ave_lift_nonsensible/lift_to_str_ratios\n",
    "\n",
    "# observed strain\n",
    "test_name = \"normalized_WTRUN2_training_sweep1_2022-08-01_17-24-43-50_rtd-str_Jan2023\"\n",
    "data_dir = os.path.join(up_dir, test_date+\"_Tests\", \"testdata\", test_folder)\n",
    "sg_csv = os.path.join(data_dir, test_name+\".csv\")\n",
    "sg_df = pd.read_csv(sg_csv, header=1)\n",
    "sg_df.insert(1, \"Date/Time (formatted)\", sg_df[\"Date/Time\"])\n",
    "sg_df[\"Date/Time (formatted)\"] = sg_df[\"Date/Time (formatted)\"].apply(lambda x: datetime.strptime(x, \"%Y-%m-%d_%H-%M-%S-%f\"))\n",
    "sg_df_comp = add_compensated_data_to_df (sg_df, comp_factors, True)\n",
    "\n",
    "sg_df_comp_filtered = sg_df_comp[(sg_df_comp[\"Date/Time (formatted)\"] > time_range[0]) & (sg_df_comp[\"Date/Time (formatted)\"] < time_range[1])]\n",
    "sg_df_comp_filtered_ave = np.mean(sg_df_comp_filtered[\"SG 1 (V) (normalized) (compensated)\"])"
   ]
  },
  {
   "cell_type": "code",
   "execution_count": 13,
   "metadata": {},
   "outputs": [
    {
     "name": "stdout",
     "output_type": "stream",
     "text": [
      "SG 1   -0.000002\n",
      "SG 2   -0.000008\n",
      "SG 4   -0.000001\n",
      "SG 5   -0.000003\n",
      "SG 6    0.000003\n",
      "dtype: float64\n",
      "-5.031739424472903e-07\n"
     ]
    }
   ],
   "source": [
    "print (exp_str)\n",
    "print (sg_df_comp_filtered_ave)"
   ]
  },
  {
   "attachments": {},
   "cell_type": "markdown",
   "metadata": {},
   "source": [
    "### Save the compensation factors for cooling."
   ]
  },
  {
   "cell_type": "code",
   "execution_count": 23,
   "metadata": {},
   "outputs": [],
   "source": [
    "data_name = \"compfactors_Jan2023_cooling.pickle\"\n",
    "\n",
    "with open(os.path.join(compfactor_dir, data_name), 'wb') as f:\n",
    "  pickle.dump(comp_factors, f)"
   ]
  },
  {
   "attachments": {},
   "cell_type": "markdown",
   "metadata": {},
   "source": [
    "# 3) Add Compensated Strains\n",
    "The block below computes the compensated data and creates a new .csv file with them in it."
   ]
  },
  {
   "cell_type": "code",
   "execution_count": 6,
   "metadata": {},
   "outputs": [
    {
     "name": "stdout",
     "output_type": "stream",
     "text": [
      "Uniform filter applied to RTD 6.\n"
     ]
    }
   ],
   "source": [
    "# Add compensation factors for heating\n",
    "compfact_name = \"compfactors_Jan2023_heating.pickle\"\n",
    "\n",
    "# test_date = \"08_01_2022\"\n",
    "# test_folder = \"preliminary\"\n",
    "# test_name = \"normalized_heating_pretest_rtd-str_Jan2023\"\n",
    "test_date = \"08_02_2022\"\n",
    "test_folder = \"Day2_Training1\"\n",
    "test_name = \"normalized_WTRUN2_day2_training1_2022-08-02_12-38-30-01_rtd-str_Jan2023\"\n",
    "\n",
    "data_dir = os.path.join(up_dir, test_date+\"_Tests\", \"testdata\", test_folder)\n",
    "sg_csv = os.path.join(data_dir, test_name+\".csv\")\n",
    "sg_df = pd.read_csv(sg_csv, header=1)\n",
    "\n",
    "with open(os.path.join(compfactor_dir, compfact_name), 'rb') as f:\n",
    "  comp_factors = pickle.load(f)\n",
    "\n",
    "sg_df_comp = add_compensated_data_to_df (sg_df, comp_factors, unique_rtds)\n",
    "\n",
    "compensated_csv = os.path.join(data_dir, \"compensated_\"+test_name+\"_tworegion.csv\")\n",
    "sg_df_comp.to_csv(compensated_csv, index=False)"
   ]
  },
  {
   "cell_type": "code",
   "execution_count": 27,
   "metadata": {},
   "outputs": [
    {
     "name": "stdout",
     "output_type": "stream",
     "text": [
      "Uniform filter applied to RTD 6.\n"
     ]
    }
   ],
   "source": [
    "# Add compensation factors for cooling\n",
    "compfact_name = \"compfactors_Jan2023_cooling.pickle\"\n",
    "\n",
    "# test_date = \"08_01_2022\"\n",
    "# test_folder = \"Day1_Training1\"\n",
    "# test_name = \"normalized_WTRUN2_training_sweep1_2022-08-01_17-24-43-50_rtd-str_Jan2023\"\n",
    "test_date = \"08_02_2022\"\n",
    "test_folder = \"Day2_Dynamic1\"\n",
    "test_name = \"normalized_WTRUN2_day2_dynamic1_2022-08-02_14-32-54-11_rtd-str_Jan2023\"\n",
    "\n",
    "data_dir = os.path.join(up_dir, test_date+\"_Tests\", \"testdata\", test_folder)\n",
    "sg_csv = os.path.join(data_dir, test_name+\".csv\")\n",
    "sg_df = pd.read_csv(sg_csv, header=1)\n",
    "\n",
    "with open(os.path.join(compfactor_dir, compfact_name), 'rb') as f:\n",
    "  comp_factors = pickle.load(f)\n",
    "\n",
    "test_df_comp = add_compensated_data_to_df (sg_df, comp_factors, unique_rtds)\n",
    "\n",
    "compensated_csv = os.path.join(data_dir, \"compensated_\"+test_name+\"_tworegion.csv\")\n",
    "test_df_comp.to_csv(compensated_csv, index=False)"
   ]
  },
  {
   "cell_type": "code",
   "execution_count": null,
   "metadata": {},
   "outputs": [],
   "source": []
  }
 ],
 "metadata": {
  "kernelspec": {
   "display_name": "python310_tf",
   "language": "python",
   "name": "python3"
  },
  "language_info": {
   "codemirror_mode": {
    "name": "ipython",
    "version": 3
   },
   "file_extension": ".py",
   "mimetype": "text/x-python",
   "name": "python",
   "nbconvert_exporter": "python",
   "pygments_lexer": "ipython3",
   "version": "3.10.8"
  },
  "orig_nbformat": 4,
  "vscode": {
   "interpreter": {
    "hash": "06f4a8e307dcff81eaf561fea6e70db68b8d250e757d0576c99054ce8b3a0f72"
   }
  }
 },
 "nbformat": 4,
 "nbformat_minor": 2
}
