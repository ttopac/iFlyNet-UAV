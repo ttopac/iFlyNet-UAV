{
 "cells": [
  {
   "cell_type": "code",
   "execution_count": 1,
   "metadata": {},
   "outputs": [],
   "source": [
    "import os\n",
    "import sys\n",
    "\n",
    "from keras.models import load_model"
   ]
  },
  {
   "cell_type": "code",
   "execution_count": 2,
   "metadata": {},
   "outputs": [],
   "source": [
    "FILE_PATH = globals()['_dh'][0]\n",
    "AUG2022_LOC = FILE_PATH.parent.parent\n",
    "MODELS_LOC = os.path.join(AUG2022_LOC, \"MLmodels\", \"Training1_Jan2023\", \"models\")\n",
    "\n",
    "sys.path.insert(0, str(AUG2022_LOC))\n",
    "\n",
    "STALL_MODEL_NAME = \"model_stall_1DCNN_ph10\""
   ]
  },
  {
   "cell_type": "code",
   "execution_count": 4,
   "metadata": {},
   "outputs": [
    {
     "name": "stdout",
     "output_type": "stream",
     "text": [
      "Metal device set to: Apple M1 Pro\n",
      "\n",
      "systemMemory: 32.00 GB\n",
      "maxCacheSize: 10.67 GB\n",
      "\n"
     ]
    },
    {
     "name": "stderr",
     "output_type": "stream",
     "text": [
      "2023-10-19 13:42:43.000666: I tensorflow/core/common_runtime/pluggable_device/pluggable_device_factory.cc:306] Could not identify NUMA node of platform GPU ID 0, defaulting to 0. Your kernel may not have been built with NUMA support.\n",
      "2023-10-19 13:42:43.000688: I tensorflow/core/common_runtime/pluggable_device/pluggable_device_factory.cc:272] Created TensorFlow device (/job:localhost/replica:0/task:0/device:GPU:0 with 0 MB memory) -> physical PluggableDevice (device: 0, name: METAL, pci bus id: <undefined>)\n"
     ]
    }
   ],
   "source": [
    "stall_model = load_model(os.path.join(MODELS_LOC, STALL_MODEL_NAME+\".tf\"))\n",
    "\n",
    "#Save model weights\n",
    "# stall_model.save_weights(os.path.join(MODELS_LOC, STALL_MODEL_NAME+\"_weights.h5\"), save_format='h5')"
   ]
  },
  {
   "cell_type": "code",
   "execution_count": 13,
   "metadata": {},
   "outputs": [
    {
     "name": "stdout",
     "output_type": "stream",
     "text": [
      "Model: \"sequential_5\"\n",
      "_________________________________________________________________\n",
      " Layer (type)                Output Shape              Param #   \n",
      "=================================================================\n",
      " conv1d_25 (Conv1D)          (None, 329, 64)           3264      \n",
      "                                                                 \n",
      " dropout_25 (Dropout)        (None, 329, 64)           0         \n",
      "                                                                 \n",
      " conv1d_26 (Conv1D)          (None, 325, 64)           20544     \n",
      "                                                                 \n",
      " dropout_26 (Dropout)        (None, 325, 64)           0         \n",
      "                                                                 \n",
      " conv1d_27 (Conv1D)          (None, 321, 64)           20544     \n",
      "                                                                 \n",
      " max_pooling1d_15 (MaxPoolin  (None, 160, 64)          0         \n",
      " g1D)                                                            \n",
      "                                                                 \n",
      " dropout_27 (Dropout)        (None, 160, 64)           0         \n",
      "                                                                 \n",
      " conv1d_28 (Conv1D)          (None, 158, 128)          24704     \n",
      "                                                                 \n",
      " max_pooling1d_16 (MaxPoolin  (None, 79, 128)          0         \n",
      " g1D)                                                            \n",
      "                                                                 \n",
      " dropout_28 (Dropout)        (None, 79, 128)           0         \n",
      "                                                                 \n",
      " conv1d_29 (Conv1D)          (None, 77, 128)           49280     \n",
      "                                                                 \n",
      " max_pooling1d_17 (MaxPoolin  (None, 38, 128)          0         \n",
      " g1D)                                                            \n",
      "                                                                 \n",
      " dropout_29 (Dropout)        (None, 38, 128)           0         \n",
      "                                                                 \n",
      " flatten_5 (Flatten)         (None, 4864)              0         \n",
      "                                                                 \n",
      " dense_4 (Dense)             (None, 2)                 9730      \n",
      "                                                                 \n",
      "=================================================================\n",
      "Total params: 128,066\n",
      "Trainable params: 128,066\n",
      "Non-trainable params: 0\n",
      "_________________________________________________________________\n"
     ]
    }
   ],
   "source": [
    "stall_model.summary()"
   ]
  },
  {
   "cell_type": "code",
   "execution_count": 13,
   "metadata": {},
   "outputs": [
    {
     "name": "stdout",
     "output_type": "stream",
     "text": [
      "(5, 10, 64)\n",
      "(64,)\n",
      "[array([[[ 0.2124643 , -0.3255637 ,  0.25381735, ...,  0.31888562,\n",
      "         -0.06322076, -0.35991317],\n",
      "        [-0.05907981, -0.04838615, -0.04365755, ...,  0.28743342,\n",
      "          0.21985972,  0.1882949 ],\n",
      "        [-0.09408831, -0.32729903,  0.2243032 , ..., -0.2751282 ,\n",
      "          0.3528689 , -0.10373472],\n",
      "        ...,\n",
      "        [-0.06762794,  0.05418734, -0.22190355, ..., -0.11229695,\n",
      "          0.02891879, -0.04179792],\n",
      "        [-0.0613318 ,  0.01115883,  0.01740269, ...,  0.14474617,\n",
      "         -0.04228963, -0.08931904],\n",
      "        [ 0.02533616, -0.05925969, -0.06108702, ...,  0.04566282,\n",
      "         -0.02330767, -0.08406934]],\n",
      "\n",
      "       [[ 0.5132358 , -0.53119576,  0.09744253, ...,  0.16016868,\n",
      "         -0.20401703, -0.5065246 ],\n",
      "        [-0.35979992,  0.51679933, -0.06177605, ..., -0.22068074,\n",
      "          0.07872134,  0.28920528],\n",
      "        [ 0.02709333, -0.18578355,  0.1963173 , ..., -0.18328232,\n",
      "          0.14564547, -0.20126945],\n",
      "        ...,\n",
      "        [-0.14789394, -0.11624869, -0.136407  , ..., -0.05934786,\n",
      "         -0.00899351,  0.13198361],\n",
      "        [ 0.09698749,  0.02207765,  0.09696469, ..., -0.03498791,\n",
      "         -0.02312246,  0.04173796],\n",
      "        [ 0.06387588,  0.06292307, -0.14299859, ...,  0.04665135,\n",
      "          0.00869512,  0.06995644]],\n",
      "\n",
      "       [[ 0.44802192, -0.6165144 ,  0.31405416, ...,  0.15458757,\n",
      "         -0.18741024, -0.30480117],\n",
      "        [-0.48770073,  0.4856412 , -0.27904055, ..., -0.25317058,\n",
      "          0.00252625,  0.46812516],\n",
      "        [ 0.03674639, -0.1258176 ,  0.21095866, ...,  0.19141299,\n",
      "          0.10052249, -0.27048907],\n",
      "        ...,\n",
      "        [-0.00425305, -0.06612772, -0.18853988, ...,  0.01256666,\n",
      "         -0.05831383, -0.06287139],\n",
      "        [ 0.0429098 , -0.0699158 ,  0.08262422, ..., -0.05052837,\n",
      "         -0.0358955 ,  0.01888734],\n",
      "        [ 0.05633399,  0.13885926,  0.10170622, ...,  0.02599476,\n",
      "          0.00965948, -0.04879792]],\n",
      "\n",
      "       [[ 0.18216698, -0.29037353,  0.14706787, ...,  0.05345976,\n",
      "          0.09555735, -0.24231492],\n",
      "        [-0.56241196,  0.54735154, -0.2975381 , ...,  0.1323778 ,\n",
      "         -0.15663353,  0.5147583 ],\n",
      "        [ 0.06289624, -0.03235506,  0.29538903, ..., -0.10038749,\n",
      "          0.06508289, -0.20813617],\n",
      "        ...,\n",
      "        [-0.09884424,  0.021382  , -0.14700495, ...,  0.11355814,\n",
      "          0.15707362,  0.08923682],\n",
      "        [-0.0478154 ,  0.1107717 ,  0.02983647, ..., -0.01503241,\n",
      "          0.01567987,  0.03180429],\n",
      "        [-0.06871498,  0.05728791,  0.02277055, ..., -0.03944922,\n",
      "         -0.09872064, -0.06653061]],\n",
      "\n",
      "       [[ 0.2316178 , -0.4540093 ,  0.2268195 , ..., -0.03453765,\n",
      "          0.04532349, -0.19640931],\n",
      "        [-0.503814  ,  0.414888  , -0.07479665, ..., -0.04869652,\n",
      "         -0.2071004 ,  0.524546  ],\n",
      "        [ 0.28998637, -0.02533192,  0.0301765 , ...,  0.4387007 ,\n",
      "          0.18971376, -0.16711138],\n",
      "        ...,\n",
      "        [-0.08903859, -0.07870278, -0.21179268, ..., -0.1256519 ,\n",
      "         -0.00116872,  0.01965102],\n",
      "        [ 0.12804496,  0.04486483, -0.0480089 , ...,  0.03231136,\n",
      "         -0.17354994,  0.0049943 ],\n",
      "        [-0.03653839, -0.07389282,  0.10036474, ...,  0.03338753,\n",
      "          0.07319526,  0.01008835]]], dtype=float32), array([-0.13712816,  0.02351555,  0.71625036,  0.01698973, -0.0212954 ,\n",
      "       -0.03576389,  0.02959074, -0.02020303,  0.01189782,  0.02167138,\n",
      "        0.01547597,  0.05941671, -0.04848834, -0.07101177, -0.08059422,\n",
      "        0.4853855 , -0.05929187,  0.78973466,  0.06070502,  0.01584723,\n",
      "        0.06093324, -0.5270978 , -0.00413287, -0.09752522,  0.09583237,\n",
      "        0.01176778, -0.07908435, -0.66394013, -0.07176924, -0.04235093,\n",
      "        0.02934894, -0.05677287, -0.06512468, -0.0221413 ,  0.06539477,\n",
      "       -0.01125688,  0.08238482,  0.00783648,  0.01745287, -0.05798155,\n",
      "       -0.05661475, -0.18373491, -0.05086109, -0.0304775 , -0.06110097,\n",
      "        0.09444208,  0.04759794, -0.03762021, -0.20770435, -0.06208955,\n",
      "        0.00406218, -0.02569838, -0.53706986,  0.03921558,  0.10786433,\n",
      "        0.65099293,  0.06749397,  0.08279154,  0.0108006 ,  0.02271309,\n",
      "        0.01113681,  0.01972454,  0.17183594,  0.03998312], dtype=float32)]\n"
     ]
    }
   ],
   "source": [
    "print (stall_model.layers[0].get_weights()[0].shape) #(5,10,64) : (kernel_size, num_channels, output_size)\n",
    "print (stall_model.layers[0].get_weights()[1].shape) #(64) : (bias elements)\n",
    "print (stall_model.layers[0].get_weights()) # List of len=2. Numpy arrays if weights"
   ]
  },
  {
   "cell_type": "code",
   "execution_count": 17,
   "metadata": {},
   "outputs": [
    {
     "data": {
      "text/plain": [
       "dtype('float32')"
      ]
     },
     "execution_count": 17,
     "metadata": {},
     "output_type": "execute_result"
    }
   ],
   "source": [
    "weights = stall_model.layers[0].get_weights()[0]\n",
    "weights.dtype"
   ]
  },
  {
   "cell_type": "code",
   "execution_count": null,
   "metadata": {},
   "outputs": [],
   "source": [
    "#Further operations on saved model weights\n",
    "import h5py\n",
    "\n",
    "with h5py.File(os.path.join(MODELS_LOC, STALL_MODEL_NAME+\"_weights.h5\"), \"r\") as f:\n",
    "    pass # Do further operations of the h5 file"
   ]
  },
  {
   "cell_type": "code",
   "execution_count": null,
   "metadata": {},
   "outputs": [],
   "source": []
  }
 ],
 "metadata": {
  "kernelspec": {
   "display_name": "python310_tf",
   "language": "python",
   "name": "python3"
  },
  "language_info": {
   "codemirror_mode": {
    "name": "ipython",
    "version": 3
   },
   "file_extension": ".py",
   "mimetype": "text/x-python",
   "name": "python",
   "nbconvert_exporter": "python",
   "pygments_lexer": "ipython3",
   "version": "3.10.8"
  }
 },
 "nbformat": 4,
 "nbformat_minor": 2
}
