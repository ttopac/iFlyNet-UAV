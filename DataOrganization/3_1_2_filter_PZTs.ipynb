{
 "cells": [
  {
   "cell_type": "code",
   "execution_count": 1,
   "metadata": {},
   "outputs": [],
   "source": [
    "import os\n",
    "import pickle\n",
    "import datetime\n",
    "import numpy as np\n",
    "import pandas as pd\n",
    "from scipy import signal"
   ]
  },
  {
   "cell_type": "code",
   "execution_count": 2,
   "metadata": {},
   "outputs": [],
   "source": [
    "cur_dir = os.getcwd()\n",
    "main_dir = os.path.dirname(os.path.dirname(cur_dir))\n",
    "data_dir = os.path.join(main_dir, \"ConsolidatedData\", \"Training1\")\n"
   ]
  },
  {
   "cell_type": "code",
   "execution_count": 4,
   "metadata": {},
   "outputs": [],
   "source": [
    "pzt_datanames = [\"consolidated_pzt_0.pkl\", \"consolidated_pzt_1.pkl\"]\n",
    "\n",
    "for i in range(len(pzt_datanames)):\n",
    "  pzt_df_pkl = os.path.join(data_dir, pzt_datanames[i])\n",
    "  \n",
    "  with open(pzt_df_pkl, 'rb') as f:\n",
    "    pzt_df = pickle.load(f)\n",
    "  \n",
    "  for sensor in pzt_df.columns:\n",
    "    sensor_data = pzt_df[sensor]\n",
    "\n",
    "    sos = signal.butter(5, 2000, 'lowpass', fs=10000, output='sos')\n",
    "    filtered = signal.sosfilt(sos, sensor_data)\n",
    "    pzt_df[sensor] = filtered\n",
    "\n",
    "  pzt_df.to_pickle(os.path.join(data_dir,f'consolidated_pzt_{i}_filtered.pkl'))\n",
    "  "
   ]
  },
  {
   "cell_type": "code",
   "execution_count": 5,
   "metadata": {},
   "outputs": [],
   "source": [
    "pzt_dataname = \"consolidated_pzt_all.pkl\"\n",
    "\n",
    "pzt_df_pkl = os.path.join(data_dir, pzt_dataname)\n",
    "with open(pzt_df_pkl, 'rb') as f:\n",
    "  pzt_df = pickle.load(f)\n",
    "\n",
    "for sensor in pzt_df.columns:\n",
    "  sensor_data = pzt_df[sensor]\n",
    "\n",
    "  sos = signal.butter(5, 2000, 'lowpass', fs=10000, output='sos')\n",
    "  filtered = signal.sosfilt(sos, sensor_data)\n",
    "  pzt_df[sensor] = filtered\n",
    "\n",
    "pzt_df.to_pickle(os.path.join(data_dir,f'consolidated_pzt_all_filtered.pkl'))"
   ]
  },
  {
   "cell_type": "code",
   "execution_count": null,
   "metadata": {},
   "outputs": [],
   "source": []
  }
 ],
 "metadata": {
  "kernelspec": {
   "display_name": "Python 3.8.13 ('python38')",
   "language": "python",
   "name": "python3"
  },
  "language_info": {
   "codemirror_mode": {
    "name": "ipython",
    "version": 3
   },
   "file_extension": ".py",
   "mimetype": "text/x-python",
   "name": "python",
   "nbconvert_exporter": "python",
   "pygments_lexer": "ipython3",
   "version": "3.8.13"
  },
  "orig_nbformat": 4,
  "vscode": {
   "interpreter": {
    "hash": "cae21afe383f91ea82811178060e59cc3e5895f013d1e4afce35f65192471b97"
   }
  }
 },
 "nbformat": 4,
 "nbformat_minor": 2
}
