{
 "cells": [
  {
   "cell_type": "code",
   "execution_count": 11,
   "metadata": {},
   "outputs": [],
   "source": [
    "from datetime import datetime\n",
    "import pathlib\n",
    "import pickle\n",
    "import os\n",
    "import pandas as pd\n",
    "import numpy as np\n",
    "import matplotlib.pyplot as plt\n",
    "from helpers.tempcomp_helper import get_comp_factors\n",
    "from helpers.tempcomp_helper import get_comp_factors_nonzero\n",
    "from helpers.tempcomp_helper import add_compensated_data_to_df\n",
    "from helpers.tempcomp_helper import add_compensated_data_to_df_infrequent"
   ]
  },
  {
   "cell_type": "code",
   "execution_count": 12,
   "metadata": {},
   "outputs": [],
   "source": [
    "# test_date = \"08_01_2022\"\n",
    "# test_folder = \"preliminary\"\n",
    "# test_name = \"normalized_heating_pretest_rtd-str_Jan2023\"\n",
    "# test_date = \"08_01_2022\"\n",
    "# test_folder = \"Day1_Training1\"\n",
    "# test_name = \"normalized_WTRUN2_training_sweep1_2022-08-01_17-24-43-50_rtd-str_Jan2023\"\n",
    "test_date = \"08_02_2022\"\n",
    "test_folder = \"Day2_Training1\"\n",
    "test_name = \"normalized_WTRUN2_day2_training1_2022-08-02_12-38-30-01_rtd-str_Jan2023\"\n",
    "# test_date = \"08_02_2022\"\n",
    "# test_folder = \"Day2_Dynamic1\"\n",
    "# test_name = \"normalized_WTRUN2_day2_dynamic1_2022-08-02_14-32-54-11_rtd-str_Jan2023\"\n",
    "\n",
    "cur_dir = os.getcwd()\n",
    "par_dir = os.path.abspath(os.path.join(cur_dir, os.pardir))\n",
    "up_dir = os.path.dirname(par_dir)\n",
    "compfactor_dir = os.path.join(up_dir, \"08_01_2022_Tests\", \"testdata\", \"preliminary\")\n",
    "data_dir = os.path.join(up_dir, test_date+\"_Tests\", \"testdata\", test_folder)\n",
    "test_csv = os.path.join(data_dir, test_name+\".csv\")\n",
    "\n",
    "if \"normalized\" not in test_csv:\n",
    "  _ = input(\"The .csv file is not normalized. Are you sure you'd like to continue?\")\n",
    "\n",
    "test_df = pd.read_csv(test_csv, header=1) #header=1 for normalized SGs/RTDs. header=0 for non-normalized"
   ]
  },
  {
   "attachments": {},
   "cell_type": "markdown",
   "metadata": {},
   "source": [
    "# 1a) Get Comp Factors for Heating"
   ]
  },
  {
   "attachments": {},
   "cell_type": "markdown",
   "metadata": {},
   "source": [
    "The block below computes the compensation factors and exports them in .pickle format"
   ]
  },
  {
   "cell_type": "code",
   "execution_count": null,
   "metadata": {},
   "outputs": [],
   "source": [
    "if \"heating_pretest\" not in test_name:\n",
    "  _ = input(\"\"\"You're trying to set compensation factors from a \n",
    "            different test than the controlled pre-heating test. \n",
    "            This is very likely not what you should do! Are you sure?\"\"\")\n",
    "\n",
    "sensor_id_list = [1, 2, 4, 5, 6]\n",
    "unique_rtds = True #Set whether we'd like to find compensation factors using unique RTDs or shared RTDs\n",
    "comp_factors = get_comp_factors(test_df, sensor_id_list, unique_rtds)"
   ]
  },
  {
   "cell_type": "code",
   "execution_count": 19,
   "metadata": {},
   "outputs": [
    {
     "data": {
      "text/plain": [
       "[-1.182597936664619e-06,\n",
       " 0.08294487613176664,\n",
       " 3.3128509456870243,\n",
       " -315.3447629126262]"
      ]
     },
     "execution_count": 19,
     "metadata": {},
     "output_type": "execute_result"
    }
   ],
   "source": [
    "comp_factors[1]"
   ]
  },
  {
   "attachments": {},
   "cell_type": "markdown",
   "metadata": {},
   "source": [
    "# 1b) Get Comp Factors for Cooling"
   ]
  },
  {
   "cell_type": "code",
   "execution_count": 13,
   "metadata": {},
   "outputs": [
    {
     "name": "stderr",
     "output_type": "stream",
     "text": [
      "/Users/tanay/miniconda3/envs/python310_tf/lib/python3.10/site-packages/numpy/core/fromnumeric.py:3472: FutureWarning: In a future version, DataFrame.mean(axis=None) will return a scalar mean over the entire DataFrame. To retain the old behavior, use 'frame.mean(axis=0)' or just 'frame.mean()'\n",
      "  return mean(axis=axis, dtype=dtype, out=out, **kwargs)\n"
     ]
    }
   ],
   "source": [
    "# Get the average strain and lift from the test that gave sensible readings\n",
    "# (Day2Training1)\n",
    "\n",
    "time_range = (datetime(2022,8,2,12,42,00), datetime(2022,8,2,12,56,00))\n",
    "SG_cols_comp = [\"SG 1 (V) (normalized) (compensated)\",\n",
    "                \"SG 2 (V) (normalized) (compensated)\", \n",
    "                \"SG 4 (V) (normalized) (compensated)\", \n",
    "                \"SG 5 (V) (normalized) (compensated)\", \n",
    "                \"SG 6 (V) (normalized) (compensated)\"]\n",
    "\n",
    "# strain\n",
    "test_date = \"08_02_2022\"\n",
    "test_folder = \"Day2_Training1\"\n",
    "test_name = \"compensated_normalized_WTRUN2_day2_training1_2022-08-02_12-38-30-01_rtd-str_Jan2023\"\n",
    "data_dir = os.path.join(up_dir, test_date+\"_Tests\", \"testdata\", test_folder)\n",
    "sg_csv = os.path.join(data_dir, test_name+\".csv\")\n",
    "sg_df = pd.read_csv(sg_csv, header=0)\n",
    "sg_df.insert(1, \"Date/Time (formatted)\", sg_df[\"Date/Time\"])\n",
    "sg_df[\"Date/Time (formatted)\"] = sg_df[\"Date/Time (formatted)\"].apply(lambda x: datetime.strptime(x, \"%Y-%m-%d_%H-%M-%S-%f\"))\n",
    "sg_df_filtered = sg_df[(sg_df[\"Date/Time (formatted)\"] > time_range[0]) & (sg_df[\"Date/Time (formatted)\"] < time_range[1])]\n",
    "ave_strain_sensible = np.mean(sg_df_filtered[SG_cols_comp])\n",
    "\n",
    "# lift\n",
    "test_name = \"DateTimed_WTRUN2_day2_training1_EDS\"\n",
    "eds_csv = os.path.join(data_dir, test_name+\".csv\")\n",
    "eds_df = pd.read_csv(eds_csv, header=0, index_col=False)\n",
    "eds_df.insert(1, \"Date/Time (formatted)\", eds_df[\"DateTime Str\"])\n",
    "eds_df[\"Date/Time (formatted)\"] = eds_df[\"Date/Time (formatted)\"].apply(lambda x: datetime.strptime(x, \"%Y-%m-%d %H:%M:%S.%f\"))\n",
    "eds_df_filtered = eds_df[(eds_df[\"Date/Time (formatted)\"] > time_range[0]) & (eds_df[\"Date/Time (formatted)\"] < time_range[1])]\n",
    "ave_lift_sensible = np.mean(eds_df_filtered[\"Lift (lbf)\"])\n",
    "\n",
    "lift_to_str_ratios = ave_lift_sensible / ave_strain_sensible\n",
    "lift_to_str_ratios = lift_to_str_ratios.rename(index=lambda x: x[0:4])"
   ]
  },
  {
   "cell_type": "code",
   "execution_count": 15,
   "metadata": {},
   "outputs": [
    {
     "data": {
      "text/plain": [
       "SG 1 (V) (normalized) (compensated)   -0.000009\n",
       "SG 2 (V) (normalized) (compensated)   -0.000040\n",
       "SG 4 (V) (normalized) (compensated)   -0.000007\n",
       "SG 5 (V) (normalized) (compensated)   -0.000014\n",
       "SG 6 (V) (normalized) (compensated)    0.000018\n",
       "dtype: float64"
      ]
     },
     "execution_count": 15,
     "metadata": {},
     "output_type": "execute_result"
    }
   ],
   "source": [
    "ave_strain_sensible"
   ]
  },
  {
   "cell_type": "code",
   "execution_count": 23,
   "metadata": {},
   "outputs": [],
   "source": [
    "# Get the average lift from the test that didn't give sensible readings\n",
    "# Then calculate the expected average strain based on the lift_to_str_ratios found above\n",
    "# (Day2Dynamic1)\n",
    "\n",
    "time_range_0 = datetime(2022,8,2,14,34,30)\n",
    "time_range_1 = (datetime(2022,8,2,14,34,50), datetime(2022,8,2,14,49,49))\n",
    "time_range_2 = (datetime(2022,8,2,14,50,10), datetime(2022,8,2,14,51,50))\n",
    "\n",
    "# lift\n",
    "test_date = \"08_02_2022\"\n",
    "test_folder = \"Day2_Dynamic1\"\n",
    "test_name = \"DateTimed_WTRUN2_day2_dynamic1_EDS\"\n",
    "data_dir = os.path.join(up_dir, test_date+\"_Tests\", \"testdata\", test_folder)\n",
    "eds_csv = os.path.join(data_dir, test_name+\".csv\")\n",
    "eds_df = pd.read_csv(eds_csv, header=0, index_col=False)\n",
    "eds_df.insert(1, \"Date/Time (formatted)\", eds_df[\"DateTime Str\"])\n",
    "eds_df[\"Date/Time (formatted)\"] = eds_df[\"Date/Time (formatted)\"].apply(lambda x: datetime.strptime(x, \"%Y-%m-%d %H:%M:%S.%f\"))\n",
    "eds_df_filtered = eds_df[eds_df[\"Date/Time (formatted)\"] < time_range_2[1]]\n",
    "\n",
    "ave_lift_nonsensible_0 = 0\n",
    "ave_lift_nonsensible_1 = eds_df_filtered[(eds_df_filtered[\"Date/Time (formatted)\"] > time_range_1[0]) & (eds_df_filtered[\"Date/Time (formatted)\"] < time_range_1[1])]\n",
    "ave_lift_nonsensible_1 = np.mean(ave_lift_nonsensible_1[\"Lift (lbf)\"])\n",
    "ave_lift_nonsensible_2 = 0\n",
    "\n",
    "# expected strain\n",
    "exp_str_1 = ave_lift_nonsensible_1/lift_to_str_ratios"
   ]
  },
  {
   "cell_type": "code",
   "execution_count": null,
   "metadata": {},
   "outputs": [],
   "source": [
    "# Finally, compute the compensation factors that'll pull the strain values around the expected average strain found above\n",
    "# (similar to the earlier compensation, but this time we're minimizing around the non-zero values found above)\n",
    "\n",
    "# observed strain\n",
    "test_date = \"08_02_2022\"\n",
    "test_folder = \"Day2_Dynamic1\"\n",
    "test_name = \"normalized_WTRUN2_day2_dynamic1_2022-08-02_14-32-54-11_rtd-str_Jan2023\"\n",
    "data_dir = os.path.join(up_dir, test_date+\"_Tests\", \"testdata\", test_folder)\n",
    "sg_csv = os.path.join(data_dir, test_name+\".csv\")\n",
    "sg_df = pd.read_csv(sg_csv, header=1)\n",
    "sg_df.insert(1, \"Date/Time (formatted)\", sg_df[\"Date/Time\"])\n",
    "sg_df[\"Date/Time (formatted)\"] = sg_df[\"Date/Time (formatted)\"].apply(lambda x: datetime.strptime(x, \"%Y-%m-%d_%H-%M-%S-%f\"))\n",
    "\n",
    "sg_df_filtered = sg_df[sg_df[\"Date/Time (formatted)\"] < time_range_2[1]]\n",
    "sg_df_filtered.insert(1,\"SG 1 Expected\", 0)\n",
    "sg_df_filtered.loc[(sg_df_filtered[\"Date/Time (formatted)\"] > time_range_1[0]) & (sg_df_filtered[\"Date/Time (formatted)\"] < time_range_1[1]), \"SG 1 Expected\"] = exp_str_1['SG 1']\n",
    "\n",
    "sensor_id_list = [1] \n",
    "exp_str = sg_df_filtered[\"SG 1 Expected\"] \n",
    "comp_factors = get_comp_factors_nonzero (sg_df_filtered, sensor_id_list, exp_str)\n"
   ]
  },
  {
   "cell_type": "code",
   "execution_count": 37,
   "metadata": {},
   "outputs": [
    {
     "data": {
      "text/plain": [
       "{1: [-4.22462735403518e-05,\n",
       "  -0.3700672184315046,\n",
       "  -145.172920031471,\n",
       "  -11801.81706751415]}"
      ]
     },
     "execution_count": 37,
     "metadata": {},
     "output_type": "execute_result"
    }
   ],
   "source": [
    "comp_factors"
   ]
  },
  {
   "cell_type": "code",
   "execution_count": 39,
   "metadata": {},
   "outputs": [],
   "source": [
    "# Validation 1: check the accuracy of these factors in the non-sensible test\n",
    "# (Day2Dynamic1)\n",
    "# observed strain\n",
    "test_date = \"08_02_2022\"\n",
    "test_folder = \"Day2_Dynamic1\"\n",
    "test_name = \"normalized_WTRUN2_day2_dynamic1_2022-08-02_14-32-54-11_rtd-str_Jan2023\"\n",
    "data_dir = os.path.join(up_dir, test_date+\"_Tests\", \"testdata\", test_folder)\n",
    "sg_csv = os.path.join(data_dir, test_name+\".csv\")\n",
    "sg_df = pd.read_csv(sg_csv, header=1)\n",
    "\n",
    "sg_df_comp = add_compensated_data_to_df (sg_df, comp_factors, True)\n"
   ]
  },
  {
   "cell_type": "code",
   "execution_count": 40,
   "metadata": {},
   "outputs": [
    {
     "data": {
      "text/plain": [
       "[<matplotlib.lines.Line2D at 0x2cb5dac50>]"
      ]
     },
     "execution_count": 40,
     "metadata": {},
     "output_type": "execute_result"
    },
    {
     "data": {
      "image/png": "[encoded data removed]",
      "text/plain": [
       "<Figure size 640x480 with 1 Axes>"
      ]
     },
     "metadata": {},
     "output_type": "display_data"
    }
   ],
   "source": [
    "plt.plot(sg_df_comp[\"SG 1 (V) (normalized) (compensated)\"])"
   ]
  },
  {
   "cell_type": "code",
   "execution_count": null,
   "metadata": {},
   "outputs": [],
   "source": [
    "# Validation 2: Check the accuracy of these factors in the other non-sensible test\n",
    "# (Day1Training1)"
   ]
  },
  {
   "attachments": {},
   "cell_type": "markdown",
   "metadata": {},
   "source": [
    "# End of compensation factor calculation"
   ]
  },
  {
   "cell_type": "code",
   "execution_count": 41,
   "metadata": {},
   "outputs": [],
   "source": [
    "unique_rtds = True\n",
    "if not unique_rtds: #If we only have RTD 1 and RTD 6 available\n",
    "  data_name = \"compfactors_sharedRTDs.pickle\"\n",
    "else:\n",
    "  data_name = \"compfactors_Jan2023_tworegion.pickle\"\n",
    "\n",
    "with open(os.path.join(compfactor_dir, data_name), 'wb') as f:\n",
    "  pickle.dump(comp_factors, f)"
   ]
  },
  {
   "cell_type": "markdown",
   "metadata": {},
   "source": [
    "# 2) Add Compensated Strains\n",
    "The block below computes the compensated data and creates a new .csv file with them in it."
   ]
  },
  {
   "cell_type": "code",
   "execution_count": 42,
   "metadata": {},
   "outputs": [],
   "source": [
    "if unique_rtds == False: #If we only have RTD 1 and RTD 6 available\n",
    "  data_name = \"compfactors_sharedRTDs.pickle\"\n",
    "else:\n",
    "  data_name = \"compfactors_Jan2023.pickle\"\n",
    "\n",
    "with open(os.path.join(compfactor_dir, data_name), 'rb') as f:\n",
    "  comp_factors = pickle.load(f)\n",
    "\n",
    "test_df_comp = add_compensated_data_to_df (test_df, comp_factors, unique_rtds)\n",
    "\n",
    "compensated_csv = os.path.join(data_dir, \"compensated_\"+test_name+\"_tworegion.csv\")\n",
    "test_df_comp.to_csv(compensated_csv, index=False)"
   ]
  },
  {
   "cell_type": "code",
   "execution_count": 43,
   "metadata": {},
   "outputs": [],
   "source": [
    "# Temp only: Adding for the cooling region\n",
    "unique_rtds = True #Set whether we'd like to find compensation factors using unique RTDs or shared RTDs\n",
    "\n",
    "if unique_rtds == False: #If we only have RTD 1 and RTD 6 available\n",
    "  data_name = \"compfactors_sharedRTDs.pickle\"\n",
    "else:\n",
    "  data_name = \"compfactors_Jan2023_tworegion.pickle\"\n",
    "\n",
    "test_date = \"08_02_2022\"\n",
    "test_folder = \"Day2_Dynamic1\"\n",
    "test_name = \"normalized_WTRUN2_day2_dynamic1_2022-08-02_14-32-54-11_rtd-str_Jan2023\"\n",
    "data_dir = os.path.join(up_dir, test_date+\"_Tests\", \"testdata\", test_folder)\n",
    "sg_csv = os.path.join(data_dir, test_name+\".csv\")\n",
    "sg_df = pd.read_csv(sg_csv, header=1)\n",
    "\n",
    "with open(os.path.join(compfactor_dir, data_name), 'rb') as f:\n",
    "  comp_factors = pickle.load(f)\n",
    "\n",
    "test_df_comp = add_compensated_data_to_df (sg_df, comp_factors, unique_rtds)\n",
    "\n",
    "compensated_csv = os.path.join(data_dir, \"compensated_\"+test_name+\"_tworegion.csv\")\n",
    "test_df_comp.to_csv(compensated_csv, index=False)"
   ]
  },
  {
   "cell_type": "code",
   "execution_count": null,
   "metadata": {},
   "outputs": [],
   "source": []
  }
 ],
 "metadata": {
  "kernelspec": {
   "display_name": "python310_tf",
   "language": "python",
   "name": "python3"
  },
  "language_info": {
   "codemirror_mode": {
    "name": "ipython",
    "version": 3
   },
   "file_extension": ".py",
   "mimetype": "text/x-python",
   "name": "python",
   "nbconvert_exporter": "python",
   "pygments_lexer": "ipython3",
   "version": "3.10.8 (main, Nov 24 2022, 08:08:27) [Clang 14.0.6 ]"
  },
  "orig_nbformat": 4,
  "vscode": {
   "interpreter": {
    "hash": "06f4a8e307dcff81eaf561fea6e70db68b8d250e757d0576c99054ce8b3a0f72"
   }
  }
 },
 "nbformat": 4,
 "nbformat_minor": 2
}
