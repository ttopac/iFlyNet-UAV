{
 "cells": [
  {
   "cell_type": "code",
   "execution_count": null,
   "metadata": {},
   "outputs": [],
   "source": [
    "# 3) Since the times are increasing monotonically by 1/10,000 second in our training data, find the begin and end row numbers to black out.\n",
    "# Test blackout first on beginning of 7, 8.3, and 9 m/s and compare with what we get using threshold method.\n",
    "# Then test at 18, 19, 20m/s on multidf data."
   ]
  },
  {
   "cell_type": "code",
   "execution_count": 48,
   "metadata": {},
   "outputs": [],
   "source": [
    "import pickle\n",
    "import time\n",
    "import os\n",
    "import datetime\n",
    "import numpy as np\n",
    "import pandas as pd\n",
    "\n",
    "cur_dir = os.getcwd()\n",
    "main_dir = os.path.dirname(os.path.dirname(cur_dir))\n",
    "offsets_dir = os.path.join(cur_dir, 'offset_pickles')"
   ]
  },
  {
   "cell_type": "code",
   "execution_count": 49,
   "metadata": {},
   "outputs": [],
   "source": [
    "test_dates = [\"08_01_2022\",\"08_02_2022\"]\n",
    "test_folders = [\"Day1_Training1\", \"Day2_Training1\"]\n",
    "file_names = [\"compensated_normalized_WTRUN2_training_sweep1_2022-08-01_17-24-43-50_rtd-str_uniqueRTDs_infrequent\", \n",
    "              \"compensated_normalized_WTRUN2_day2_training1_2022-08-02_12-38-30-01_rtd-str_uniqueRTDs_infrequent\"]"
   ]
  },
  {
   "cell_type": "code",
   "execution_count": 4,
   "metadata": {},
   "outputs": [],
   "source": [
    "test_dfs = list()\n",
    "for i in range(len(test_folders)):\n",
    "  data_dir = os.path.join(main_dir, test_dates[i]+\"_Tests\", \"testdata\", test_folders[i])\n",
    "  test_csv = os.path.join(data_dir, file_names[i]+\".csv\")\n",
    "  test_df = pd.read_csv(test_csv, header=0)\n",
    "  test_dfs.append(test_df)"
   ]
  },
  {
   "cell_type": "code",
   "execution_count": 50,
   "metadata": {},
   "outputs": [],
   "source": [
    "# Load the RTD/SG vs EDS offsets in case we need to shift timing in case RTD/SG is not the vantage data\n",
    "with open(os.path.join(offsets_dir, \"eds_rtdstr_offsets.pkl\"),'rb') as f:\n",
    "  start_loc_offsets = pickle.load(f) #[['vantage test 1 (eds or rtdstr)', vantage offset from other data source 1], ['vantage test 2 (eds or rtdstr)', vantage offset from other data source 2]]"
   ]
  },
  {
   "cell_type": "code",
   "execution_count": 53,
   "metadata": {},
   "outputs": [
    {
     "data": {
      "text/plain": [
       "[['eds', 1198], ['eds', 1036]]"
      ]
     },
     "execution_count": 53,
     "metadata": {},
     "output_type": "execute_result"
    }
   ],
   "source": [
    "start_loc_offsets"
   ]
  },
  {
   "cell_type": "code",
   "execution_count": 5,
   "metadata": {},
   "outputs": [],
   "source": [
    "# Convert the datetime column to usable DateTime Object.\n",
    "for test_df in test_dfs:\n",
    "  test_df[\"rtdstr_DateTime Obj\"] = test_df[\"Date/Time\"].apply(lambda x: datetime.datetime.strptime(x, \"%Y-%m-%d_%H-%M-%S-%f\"))"
   ]
  },
  {
   "cell_type": "code",
   "execution_count": 111,
   "metadata": {},
   "outputs": [],
   "source": [
    "# Get the RTD excitation times on each rtd-str df (non-combined or non-repeated ones).\n",
    "blackout_masks_all = dict()\n",
    "\n",
    "for i, test_df in enumerate(test_dfs):\n",
    "  if start_loc_offsets[i][0] != \"rtdstr\":\n",
    "    start_time = test_df[\"rtdstr_DateTime Obj\"][start_loc_offsets[i][1]]\n",
    "  else:\n",
    "    start_time = test_df[\"rtdstr_DateTime Obj\"][0]\n",
    "  end_time = test_df[\"rtdstr_DateTime Obj\"].iloc[-1]\n",
    "  excitation_times = test_df.loc[::100, \"rtdstr_DateTime Obj\"]\n",
    "  \n",
    "  blackout_times = np.empty((excitation_times.shape[0], 2), dtype=\"datetime64[ns]\")\n",
    "  blackout_times[:,0] = excitation_times.to_numpy() - np.timedelta64(40, 'ms') #0.04 second\n",
    "  blackout_times[:,1] = excitation_times.to_numpy()\n",
    "  \n",
    "  blackout_lines = np.zeros((excitation_times.shape[0], 2))\n",
    "  blackout_lines[:,0] = (blackout_times[:,0] - start_time.to_numpy()).astype('timedelta64[ms]') * 10\n",
    "  blackout_lines[:,1] = (blackout_times[:,1] - start_time.to_numpy()).astype('timedelta64[ms]') * 10\n",
    "  ix = np.where(blackout_lines>0)\n",
    "  blackout_lines = blackout_lines[ix[0][0]:]\n",
    "\n",
    "  ms_elapsed = (end_time.to_numpy() - start_time.to_numpy()).astype('timedelta64[ms]') / np.timedelta64(1, 'ms')\n",
    "  total_num_lines = ms_elapsed * 10\n",
    "  blackout_masks = np.full(int(total_num_lines), True)\n",
    "  for j in range(blackout_lines.shape[0]):\n",
    "    blackout_pair = blackout_lines[j]\n",
    "    if blackout_pair[0] < 0:\n",
    "      blackout_pair[0] = 0\n",
    "    blackout_masks[int(blackout_pair[0]) : int(blackout_pair[1])] = False\n",
    "    blackout_masks[0 : 10] = False\n",
    "\n",
    "  blackout_masks_all[test_folders[i]] = blackout_masks\n"
   ]
  },
  {
   "cell_type": "code",
   "execution_count": 118,
   "metadata": {},
   "outputs": [],
   "source": [
    "for i,test_folder in enumerate(test_folders):\n",
    "  data_dir = os.path.join(main_dir, test_dates[i]+\"_Tests\", \"testdata\", test_folder)\n",
    "  filename = \"blackout_masks\"\n",
    "  np.save(os.path.join(data_dir, filename), blackout_masks_all[test_folder])"
   ]
  },
  {
   "cell_type": "code",
   "execution_count": null,
   "metadata": {},
   "outputs": [],
   "source": []
  }
 ],
 "metadata": {
  "kernelspec": {
   "display_name": "Python 3.8.13 ('python38')",
   "language": "python",
   "name": "python3"
  },
  "language_info": {
   "codemirror_mode": {
    "name": "ipython",
    "version": 3
   },
   "file_extension": ".py",
   "mimetype": "text/x-python",
   "name": "python",
   "nbconvert_exporter": "python",
   "pygments_lexer": "ipython3",
   "version": "3.8.13"
  },
  "orig_nbformat": 4,
  "vscode": {
   "interpreter": {
    "hash": "cae21afe383f91ea82811178060e59cc3e5895f013d1e4afce35f65192471b97"
   }
  }
 },
 "nbformat": 4,
 "nbformat_minor": 2
}
