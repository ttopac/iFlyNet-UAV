{
 "cells": [
  {
   "cell_type": "code",
   "execution_count": 1,
   "metadata": {},
   "outputs": [],
   "source": [
    "import os\n",
    "import pickle\n",
    "import datetime\n",
    "import numpy as np\n",
    "import pandas as pd"
   ]
  },
  {
   "cell_type": "code",
   "execution_count": 2,
   "metadata": {},
   "outputs": [],
   "source": [
    "cur_dir = os.getcwd()\n",
    "main_dir = os.path.dirname(os.path.dirname(cur_dir))\n",
    "data_dir = os.path.join(main_dir, \"ConsolidatedData\", \"Dynamic1_Jan2023\")\n",
    "\n",
    "all_df_dataname = \"videotimed_labeled_consolidated_all.pkl\"\n",
    "\n",
    "all_df_pkl = os.path.join(data_dir, all_df_dataname)\n",
    "\n",
    "with open(all_df_pkl, 'rb') as f:\n",
    "  all_df = pickle.load(f)"
   ]
  },
  {
   "cell_type": "code",
   "execution_count": 3,
   "metadata": {},
   "outputs": [
    {
     "name": "stdout",
     "output_type": "stream",
     "text": [
      "Processing run: 15\n",
      "Processing run: 16\n",
      "Processing run: 17\n",
      "Processing run: 18\n",
      "Processing run: 19\n",
      "Processing run: 20\n",
      "Processing run: 21\n"
     ]
    }
   ],
   "source": [
    "run_all_datetimes = all_df[\"Date/Time\"].apply(lambda x: datetime.datetime.strptime(x, \"%Y-%m-%d_%H-%M-%S-%f\"))\n",
    "run_timing = dict()\n",
    "\n",
    "unique_runs = all_df[\"Run Number\"].unique()\n",
    "run_start_row_eds = 0\n",
    "\n",
    "for run_number in unique_runs:\n",
    "  print (f\"Processing run: {run_number}\")\n",
    "\n",
    "  run_start_time = run_all_datetimes.iloc[run_start_row_eds]\n",
    "  run_row_cnt_eds = all_df[\"Run Number\"].value_counts()[run_number]\n",
    "  if run_start_row_eds + run_row_cnt_eds < run_all_datetimes.shape[0]:\n",
    "    run_end_time = run_all_datetimes.iloc[run_start_row_eds + run_row_cnt_eds]\n",
    "  else:\n",
    "    run_end_time = run_all_datetimes.iloc[-1]\n",
    "  \n",
    "  run_timing[run_number] = (run_start_time, run_end_time)\n",
    "\n",
    "  run_start_row_eds += run_row_cnt_eds\n"
   ]
  },
  {
   "cell_type": "code",
   "execution_count": 4,
   "metadata": {},
   "outputs": [
    {
     "name": "stdout",
     "output_type": "stream",
     "text": [
      "Processing run 15\n",
      "Processing run 16\n",
      "Processing run 17\n",
      "Processing run 18\n",
      "Processing run 19\n",
      "Processing run 20\n",
      "Processing run 21\n"
     ]
    },
    {
     "ename": "IndexError",
     "evalue": "single positional indexer is out-of-bounds",
     "output_type": "error",
     "traceback": [
      "\u001b[0;31m---------------------------------------------------------------------------\u001b[0m",
      "\u001b[0;31mIndexError\u001b[0m                                Traceback (most recent call last)",
      "Cell \u001b[0;32mIn[4], line 20\u001b[0m\n\u001b[1;32m     17\u001b[0m t \u001b[39m=\u001b[39m run_start_time\n\u001b[1;32m     19\u001b[0m \u001b[39mwhile\u001b[39;00m t \u001b[39m<\u001b[39m run_end_time:\n\u001b[0;32m---> 20\u001b[0m   \u001b[39mwhile\u001b[39;00m run_all_datetimes\u001b[39m.\u001b[39;49miloc[row_ix] \u001b[39m<\u001b[39m\u001b[39m=\u001b[39m t\u001b[39m+\u001b[39mtimestep:\n\u001b[1;32m     21\u001b[0m     row_ix \u001b[39m+\u001b[39m\u001b[39m=\u001b[39m \u001b[39m1\u001b[39m\n\u001b[1;32m     22\u001b[0m   vid_time \u001b[39m=\u001b[39m all_df[\u001b[39m\"\u001b[39m\u001b[39mVideo Time (sec)\u001b[39m\u001b[39m\"\u001b[39m]\u001b[39m.\u001b[39miloc[start_row_ix:row_ix]\u001b[39m.\u001b[39mmean()\n",
      "File \u001b[0;32m~/miniconda3/envs/python38/lib/python3.8/site-packages/pandas/core/indexing.py:967\u001b[0m, in \u001b[0;36m_LocationIndexer.__getitem__\u001b[0;34m(self, key)\u001b[0m\n\u001b[1;32m    964\u001b[0m axis \u001b[39m=\u001b[39m \u001b[39mself\u001b[39m\u001b[39m.\u001b[39maxis \u001b[39mor\u001b[39;00m \u001b[39m0\u001b[39m\n\u001b[1;32m    966\u001b[0m maybe_callable \u001b[39m=\u001b[39m com\u001b[39m.\u001b[39mapply_if_callable(key, \u001b[39mself\u001b[39m\u001b[39m.\u001b[39mobj)\n\u001b[0;32m--> 967\u001b[0m \u001b[39mreturn\u001b[39;00m \u001b[39mself\u001b[39;49m\u001b[39m.\u001b[39;49m_getitem_axis(maybe_callable, axis\u001b[39m=\u001b[39;49maxis)\n",
      "File \u001b[0;32m~/miniconda3/envs/python38/lib/python3.8/site-packages/pandas/core/indexing.py:1520\u001b[0m, in \u001b[0;36m_iLocIndexer._getitem_axis\u001b[0;34m(self, key, axis)\u001b[0m\n\u001b[1;32m   1517\u001b[0m     \u001b[39mraise\u001b[39;00m \u001b[39mTypeError\u001b[39;00m(\u001b[39m\"\u001b[39m\u001b[39mCannot index by location index with a non-integer key\u001b[39m\u001b[39m\"\u001b[39m)\n\u001b[1;32m   1519\u001b[0m \u001b[39m# validate the location\u001b[39;00m\n\u001b[0;32m-> 1520\u001b[0m \u001b[39mself\u001b[39;49m\u001b[39m.\u001b[39;49m_validate_integer(key, axis)\n\u001b[1;32m   1522\u001b[0m \u001b[39mreturn\u001b[39;00m \u001b[39mself\u001b[39m\u001b[39m.\u001b[39mobj\u001b[39m.\u001b[39m_ixs(key, axis\u001b[39m=\u001b[39maxis)\n",
      "File \u001b[0;32m~/miniconda3/envs/python38/lib/python3.8/site-packages/pandas/core/indexing.py:1452\u001b[0m, in \u001b[0;36m_iLocIndexer._validate_integer\u001b[0;34m(self, key, axis)\u001b[0m\n\u001b[1;32m   1450\u001b[0m len_axis \u001b[39m=\u001b[39m \u001b[39mlen\u001b[39m(\u001b[39mself\u001b[39m\u001b[39m.\u001b[39mobj\u001b[39m.\u001b[39m_get_axis(axis))\n\u001b[1;32m   1451\u001b[0m \u001b[39mif\u001b[39;00m key \u001b[39m>\u001b[39m\u001b[39m=\u001b[39m len_axis \u001b[39mor\u001b[39;00m key \u001b[39m<\u001b[39m \u001b[39m-\u001b[39mlen_axis:\n\u001b[0;32m-> 1452\u001b[0m     \u001b[39mraise\u001b[39;00m \u001b[39mIndexError\u001b[39;00m(\u001b[39m\"\u001b[39m\u001b[39msingle positional indexer is out-of-bounds\u001b[39m\u001b[39m\"\u001b[39m)\n",
      "\u001b[0;31mIndexError\u001b[0m: single positional indexer is out-of-bounds"
     ]
    }
   ],
   "source": [
    "groundtruth_dict = dict()\n",
    "timestep = datetime.timedelta(0,0,100000) #Predicitons in every 333 SG/PZT samples. In time-scale, we need to make predictions in every 333/10000 second.\n",
    "\n",
    "row_ix = 1\n",
    "start_row_ix = row_ix\n",
    "\n",
    "for run_number in unique_runs:\n",
    "  print (f\"Processing run {run_number}\")\n",
    "  groundtruth_df = pd.DataFrame(columns=[\"Video Time (sec)\", \n",
    "                                         \"WT_Airspeed\", \"WT_Airspeed_int\", \n",
    "                                         \"WT_AoA\", \"WT_AoA_int\", \n",
    "                                         \"UAV_TAS\", \"UAV_TAS_int\", \n",
    "                                         \"UAV_IAS\", \"UAV_IAS_int\", \n",
    "                                         \"UAV_Pitch\", \"UAV_Pitch_int\", \n",
    "                                         \"UAV_Alpha\", \"UAV_Alpha_int\"])\n",
    "  (run_start_time, run_end_time) = run_timing[run_number]\n",
    "  t = run_start_time\n",
    "  \n",
    "  while t < run_end_time:\n",
    "    while run_all_datetimes.iloc[row_ix] <= t+timestep:\n",
    "      row_ix += 1\n",
    "    vid_time = all_df[\"Video Time (sec)\"].iloc[start_row_ix:row_ix].mean()\n",
    "    \n",
    "    wt_airspeed = all_df[\"MPH\"].iloc[start_row_ix:row_ix].mean() * 0.44704\n",
    "    wt_airspeed_int = np.rint(wt_airspeed)\n",
    "\n",
    "    wt_aoa = all_df[\"Inclination (deg)\"].iloc[start_row_ix:row_ix].mean()\n",
    "    wt_aoa_int = np.rint(wt_aoa)\n",
    "\n",
    "    uav_tas = all_df[\"TAS\"].iloc[start_row_ix:row_ix].mean()\n",
    "    uav_tas_int = np.rint(uav_tas)\n",
    "\n",
    "    uav_ias = all_df[\"IAS\"].iloc[start_row_ix:row_ix].mean()\n",
    "    uav_ias_int = np.rint(uav_ias)\n",
    "\n",
    "    uav_pitch = all_df[\"Pitch (deg)\"].iloc[start_row_ix:row_ix].mean()\n",
    "    uav_pitch_int = np.rint(uav_pitch)\n",
    "\n",
    "    uav_alpha = all_df[\"ALPHA\"].iloc[start_row_ix:row_ix].mean()\n",
    "    uav_alpha_int = np.rint(uav_alpha)\n",
    "\n",
    "    groundtruth_df.loc[len(groundtruth_df.index)] = [vid_time, \n",
    "                                                     wt_airspeed, wt_airspeed_int, \n",
    "                                                     wt_aoa, wt_aoa_int, \n",
    "                                                     uav_tas, uav_tas_int, \n",
    "                                                     uav_ias, uav_ias_int,\n",
    "                                                     uav_pitch, uav_pitch_int,\n",
    "                                                     uav_alpha, uav_alpha_int]\n",
    "\n",
    "    start_row_ix = row_ix\n",
    "    t += timestep\n",
    "  \n",
    "  groundtruth_dict[run_number] = groundtruth_df\n"
   ]
  },
  {
   "cell_type": "code",
   "execution_count": null,
   "metadata": {},
   "outputs": [],
   "source": [
    "#Caution: Last DF can be problematic\n",
    "output_folder = os.path.join(main_dir, \"KerasML\", \"Dynamic1_Jan2023\", \"labels\")\n",
    "\n",
    "for run_number, example in groundtruth_dict.items():\n",
    "  example.to_pickle(os.path.join(output_folder,f'dynamic1_run{run_number}_truth_1000sample.pkl'))\n",
    "  example.to_csv(os.path.join(output_folder,f'dynamic1_run{run_number}_truth_1000sample.csv'), index=False)"
   ]
  },
  {
   "cell_type": "code",
   "execution_count": 4,
   "metadata": {},
   "outputs": [],
   "source": [
    "val_labels_dir = os.path.join(main_dir, \"KerasML\", \"Dynamic1_Jan2023\", \"labels\")\n",
    "\n",
    "with open(os.path.join(val_labels_dir,'dynamic1_run15_truth.pkl'), 'rb') as f:\n",
    "  val_labels = pickle.load(f)"
   ]
  }
 ],
 "metadata": {
  "kernelspec": {
   "display_name": "python38",
   "language": "python",
   "name": "python3"
  },
  "language_info": {
   "codemirror_mode": {
    "name": "ipython",
    "version": 3
   },
   "file_extension": ".py",
   "mimetype": "text/x-python",
   "name": "python",
   "nbconvert_exporter": "python",
   "pygments_lexer": "ipython3",
   "version": "3.8.13"
  },
  "orig_nbformat": 4,
  "vscode": {
   "interpreter": {
    "hash": "cae21afe383f91ea82811178060e59cc3e5895f013d1e4afce35f65192471b97"
   }
  }
 },
 "nbformat": 4,
 "nbformat_minor": 2
}
